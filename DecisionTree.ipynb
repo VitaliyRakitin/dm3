{
 "cells": [
  {
   "cell_type": "markdown",
   "metadata": {
    "collapsed": true
   },
   "source": [
    "# Градиентный бустинг и деревья решений\n",
    "### Автор: Ракитин Виталий, BD-31"
   ]
  },
  {
   "cell_type": "markdown",
   "metadata": {},
   "source": [
    "###### Вариант 3. Реализация алгоритма градиентного бустинга с квадратичной функцией потерь. В качестве базового алгоритма использоватьалгоритм CART (с линейными признаками) (задача регрессии)\n"
   ]
  },
  {
   "cell_type": "code",
   "execution_count": 2,
   "metadata": {},
   "outputs": [
    {
     "name": "stdout",
     "output_type": "stream",
     "text": [
      "Populating the interactive namespace from numpy and matplotlib\n"
     ]
    }
   ],
   "source": [
    "import numpy as np\n",
    "import pylab as pl\n",
    "\n",
    "from Boost import LinearTree, GradientBoosting, Tree\n",
    "from sklearn.tree import DecisionTreeRegressor \n",
    "from sklearn.ensemble import GradientBoostingRegressor\n",
    "\n",
    "%pylab inline"
   ]
  },
  {
   "cell_type": "code",
   "execution_count": 3,
   "metadata": {
    "collapsed": true
   },
   "outputs": [],
   "source": [
    "# IRIS\n",
    "from sklearn import datasets\n",
    "\n",
    "iris = datasets.load_iris()\n",
    "data = iris['data']\n",
    "target = iris['target']"
   ]
  },
  {
   "cell_type": "code",
   "execution_count": 4,
   "metadata": {
    "collapsed": true
   },
   "outputs": [],
   "source": [
    "# Спам\n",
    "train_data = np.loadtxt(\"spam.train.txt\")\n",
    "X_train = train_data[:, 1:]\n",
    "Y_train = train_data[:, 0]\n",
    "\n",
    "test_data = np.loadtxt(\"spam.test.txt\")\n",
    "X_test = test_data[:, 1:]\n",
    "Y_test = test_data[:, 0]"
   ]
  },
  {
   "cell_type": "code",
   "execution_count": 5,
   "metadata": {
    "collapsed": true
   },
   "outputs": [],
   "source": [
    "def MSE(target, prediction):\n",
    "    return ((target - prediction)**2).sum() / len(target)\n",
    "\n",
    "\n",
    "def Error(my_predict, sklearn_predict):\n",
    "    ''' relative error '''\n",
    "    \n",
    "    if sklearn_predict == 0:\n",
    "        return my_predict\n",
    "    \n",
    "    else:\n",
    "        return (my_predict - sklearn_predict)/sklearn_predict\n",
    "        \n",
    "        \n",
    "def Test(name, \n",
    "         data,\n",
    "         target, \n",
    "         max_depth, \n",
    "         model, \n",
    "         sklearn_model, \n",
    "         is_test = False, \n",
    "         test_data = None, \n",
    "         test_target = None):\n",
    "    \n",
    "    print (\"TEST: {0}\".format(name))\n",
    "    \n",
    "    for md in range(1, max_depth + 1):\n",
    "        print()\n",
    "        print (\"Depth: {0}\".format(md))\n",
    "        \n",
    "        tr = model(max_depth=md).fit(data=data, target=target)\n",
    "        pr = MSE(target, tr.predict(data))\n",
    "        print (\"Prediction of the Tree: {0}\".format(pr))\n",
    "        \n",
    "        sk_tr = sklearn_model(max_depth=md).fit(data, target)\n",
    "        sk_pr = MSE(target, sk_tr.predict(data))\n",
    "        print (\"Prediction of Sklearn Tree: {0}\".format(sk_pr))\n",
    "        print (\"Error: {0}\".format(Error(pr, sk_pr)))\n",
    "        \n",
    "        if is_test:\n",
    "            pr = MSE(test_target, tr.predict(test_data))\n",
    "            sk_pr = MSE(test_target, sk_tr.predict(test_data))\n",
    "            print (\"Test Prediction of the Tree: {0}\".format(pr))\n",
    "            print (\"Test Prediction of Sklearn Tree: {0}\".format(sk_pr))\n",
    "            print (\"Test Error: {0}\".format(Error(pr, sk_pr)))\n"
   ]
  },
  {
   "cell_type": "markdown",
   "metadata": {},
   "source": [
    "## 1. Деревья"
   ]
  },
  {
   "cell_type": "markdown",
   "metadata": {},
   "source": [
    "### 1.1 Деревья решений"
   ]
  },
  {
   "cell_type": "markdown",
   "metadata": {},
   "source": [
    "#### Протестируем на IRIS"
   ]
  },
  {
   "cell_type": "code",
   "execution_count": 115,
   "metadata": {
    "scrolled": false
   },
   "outputs": [
    {
     "name": "stdout",
     "output_type": "stream",
     "text": [
      "TEST: Iris\n",
      "\n",
      "Depth: 1\n",
      "Prediction of the Tree: 0.16666666666666666\n",
      "Prediction of Sklearn Tree: 0.16666666666666666\n",
      "Error: 0.0\n",
      "\n",
      "Depth: 2\n",
      "Prediction of the Tree: 0.0367686527106817\n",
      "Prediction of Sklearn Tree: 0.0367686527106817\n",
      "Error: 0.0\n",
      "\n",
      "Depth: 3\n",
      "Prediction of the Tree: 0.019861111111111114\n",
      "Prediction of Sklearn Tree: 0.019861111111111114\n",
      "Error: 0.0\n",
      "\n",
      "Depth: 4\n",
      "Prediction of the Tree: 0.0044444444444444444\n",
      "Prediction of Sklearn Tree: 0.0044444444444444444\n",
      "Error: 0.0\n",
      "\n",
      "Depth: 5\n",
      "Prediction of the Tree: 0.0\n",
      "Prediction of Sklearn Tree: 0.0\n",
      "Error: 0.0\n",
      "\n",
      "Depth: 6\n",
      "Prediction of the Tree: 0.0\n",
      "Prediction of Sklearn Tree: 0.0\n",
      "Error: 0.0\n"
     ]
    }
   ],
   "source": [
    "Test(name = \"Iris\", \n",
    "     data=data,\n",
    "     target = target,\n",
    "     max_depth=6, \n",
    "     model=Tree, \n",
    "     sklearn_model=DecisionTreeRegressor)"
   ]
  },
  {
   "cell_type": "markdown",
   "metadata": {},
   "source": [
    "#### Протестируем на спаме"
   ]
  },
  {
   "cell_type": "code",
   "execution_count": 71,
   "metadata": {
    "scrolled": false
   },
   "outputs": [
    {
     "name": "stdout",
     "output_type": "stream",
     "text": [
      "TEST: Spam\n",
      "\n",
      "Depth: 1\n",
      "Prediction of the Tree: 0.15656147711855795\n",
      "Prediction of Sklearn Tree: 0.15656147711855795\n",
      "Error: 0.0\n",
      "Test Prediction of the Tree: 0.12446198984602179\n",
      "Test Prediction of Sklearn Tree: 0.12446198984602179\n",
      "Test Error: 0.0\n",
      "\n",
      "Depth: 2\n",
      "Prediction of the Tree: 0.11930271803650848\n",
      "Prediction of Sklearn Tree: 0.11930271803650848\n",
      "Error: 0.0\n",
      "Test Prediction of the Tree: 0.12013308073036076\n",
      "Test Prediction of Sklearn Tree: 0.12013308073036076\n",
      "Test Error: 0.0\n",
      "\n",
      "Depth: 3\n",
      "Prediction of the Tree: 0.09417726399296775\n",
      "Prediction of Sklearn Tree: 0.09417726399296775\n",
      "Error: 0.0\n",
      "Test Prediction of the Tree: 0.1582768611608585\n",
      "Test Prediction of Sklearn Tree: 0.15861836385572825\n",
      "Test Error: -0.0021529833404431865\n",
      "\n",
      "Depth: 4\n",
      "Prediction of the Tree: 0.07357464786081899\n",
      "Prediction of Sklearn Tree: 0.07357464786081899\n",
      "Error: 0.0\n",
      "Test Prediction of the Tree: 0.1395241521870245\n",
      "Test Prediction of Sklearn Tree: 0.1375236962723577\n",
      "Test Error: 0.014546263435975515\n",
      "\n",
      "Depth: 5\n",
      "Prediction of the Tree: 0.059883868549175906\n",
      "Prediction of Sklearn Tree: 0.059883868549175906\n",
      "Error: 0.0\n",
      "Test Prediction of the Tree: 0.13113465922132253\n",
      "Test Prediction of Sklearn Tree: 0.13895945768349036\n",
      "Test Error: -0.05630993811152073\n"
     ]
    }
   ],
   "source": [
    "Test(name = \"Spam\", \n",
    "     data=X_train,\n",
    "     target = Y_train,\n",
    "     max_depth=5, \n",
    "     model=Tree, \n",
    "     sklearn_model=DecisionTreeRegressor,\n",
    "     is_test = True,\n",
    "     test_data = X_test,\n",
    "     test_target = Y_test\n",
    "    )"
   ]
  },
  {
   "cell_type": "markdown",
   "metadata": {},
   "source": [
    "##### Вывод: данное дерево абсолютно соответствует реализации  в sklearn. Относительная ошибка на тестовой выборке не превышает 3%."
   ]
  },
  {
   "cell_type": "markdown",
   "metadata": {},
   "source": [
    "### 1.2 Дерево с линейными признаками"
   ]
  },
  {
   "cell_type": "markdown",
   "metadata": {},
   "source": [
    "#### Протестируем на IRIS"
   ]
  },
  {
   "cell_type": "code",
   "execution_count": 10,
   "metadata": {},
   "outputs": [
    {
     "name": "stdout",
     "output_type": "stream",
     "text": [
      "TEST: Iris\n",
      "\n",
      "Depth: 1\n",
      "Prediction of the Tree: 0.1917426545086119\n",
      "Prediction of Sklearn Tree: 0.16666666666666666\n",
      "Error: 0.15045592705167138\n",
      "\n",
      "Depth: 2\n",
      "Prediction of the Tree: 0.013048484848484842\n",
      "Prediction of Sklearn Tree: 0.0367686527106817\n",
      "Error: -0.6451193098871932\n",
      "\n",
      "Depth: 3\n",
      "Prediction of the Tree: 0.005\n",
      "Prediction of Sklearn Tree: 0.019861111111111114\n",
      "Error: -0.7482517482517482\n",
      "\n",
      "Depth: 4\n",
      "Prediction of the Tree: 0.0\n",
      "Prediction of Sklearn Tree: 0.0044444444444444444\n",
      "Error: -1.0\n",
      "\n",
      "Depth: 5\n",
      "Prediction of the Tree: 0.0\n",
      "Prediction of Sklearn Tree: 0.0\n",
      "Error: 0.0\n",
      "\n",
      "Depth: 6\n",
      "Prediction of the Tree: 0.0\n",
      "Prediction of Sklearn Tree: 0.0\n",
      "Error: 0.0\n",
      "\n",
      "Depth: 7\n",
      "Prediction of the Tree: 0.0\n",
      "Prediction of Sklearn Tree: 0.0\n",
      "Error: 0.0\n",
      "\n",
      "Depth: 8\n",
      "Prediction of the Tree: 0.0\n",
      "Prediction of Sklearn Tree: 0.0\n",
      "Error: 0.0\n",
      "\n",
      "Depth: 9\n",
      "Prediction of the Tree: 0.0\n",
      "Prediction of Sklearn Tree: 0.0\n",
      "Error: 0.0\n",
      "\n",
      "Depth: 10\n",
      "Prediction of the Tree: 0.0\n",
      "Prediction of Sklearn Tree: 0.0\n",
      "Error: 0.0\n"
     ]
    }
   ],
   "source": [
    "Test(name = \"Iris\", \n",
    "     data=data,\n",
    "     target = target,\n",
    "     max_depth=10, \n",
    "     model=LinearTree, \n",
    "     sklearn_model=DecisionTreeRegressor\n",
    "    )"
   ]
  },
  {
   "cell_type": "markdown",
   "metadata": {},
   "source": [
    "#### Протестируем на спаме"
   ]
  },
  {
   "cell_type": "code",
   "execution_count": 6,
   "metadata": {},
   "outputs": [
    {
     "name": "stdout",
     "output_type": "stream",
     "text": [
      "TEST: Spam\n",
      "\n",
      "Depth: 1\n",
      "Prediction of the Tree: 0.041819309673603276\n",
      "Prediction of Sklearn Tree: 0.15656147711855795\n",
      "Error: -0.7328888916784099\n",
      "Test Prediction of the Tree: 0.12154662616265235\n",
      "Test Prediction of Sklearn Tree: 0.12446198984602179\n",
      "Test Error: -0.02342372709110772\n",
      "\n",
      "Depth: 2\n",
      "Prediction of the Tree: 0.03623441520265188\n",
      "Prediction of Sklearn Tree: 0.11930271803650848\n",
      "Error: -0.6962817293771666\n",
      "Test Prediction of the Tree: 0.13587273155023663\n",
      "Test Prediction of Sklearn Tree: 0.12013308073036076\n",
      "Test Error: 0.1310184565665438\n",
      "\n",
      "Depth: 3\n",
      "Prediction of the Tree: 0.027326175344080668\n",
      "Prediction of Sklearn Tree: 0.09417726399296775\n",
      "Error: -0.7098431809813341\n",
      "Test Prediction of the Tree: 0.2765670644780914\n",
      "Test Prediction of Sklearn Tree: 0.15861836385572825\n",
      "Test Error: 0.7436005375118083\n",
      "\n",
      "Depth: 4\n",
      "Prediction of the Tree: 0.014392586155722982\n",
      "Prediction of Sklearn Tree: 0.07357464786081899\n",
      "Error: -0.8043811751168771\n",
      "Test Prediction of the Tree: 0.14484922594756944\n",
      "Test Prediction of Sklearn Tree: 0.1375236962723577\n",
      "Test Error: 0.05326739953748741\n",
      "\n",
      "Depth: 5\n",
      "Prediction of the Tree: 0.0007584899787058006\n",
      "Prediction of Sklearn Tree: 0.059883868549175906\n",
      "Error: -0.9873339849765561\n",
      "Test Prediction of the Tree: 0.25232448289578363\n",
      "Test Prediction of Sklearn Tree: 0.1379650264981284\n",
      "Test Error: 0.8289017825775333\n",
      "\n",
      "Depth: 6\n",
      "Prediction of the Tree: 0.0\n",
      "Prediction of Sklearn Tree: 0.04601209638320363\n",
      "Error: -1.0\n",
      "Test Prediction of the Tree: 0.2546738265712013\n",
      "Test Prediction of Sklearn Tree: 0.14521133169700043\n",
      "Test Error: 0.7538151024095456\n",
      "\n",
      "Depth: 7\n",
      "Prediction of the Tree: 0.0\n",
      "Prediction of Sklearn Tree: 0.03489232517220387\n",
      "Error: -1.0\n",
      "Test Prediction of the Tree: 0.2546738265712013\n",
      "Test Prediction of Sklearn Tree: 0.14818739862201016\n",
      "Test Error: 0.7185930041245409\n"
     ]
    }
   ],
   "source": [
    "Test(name = \"Spam\", \n",
    "     data=X_train,\n",
    "     target = Y_train,\n",
    "     max_depth=7, \n",
    "     model=LinearTree, \n",
    "     sklearn_model=DecisionTreeRegressor,\n",
    "     is_test = True,\n",
    "     test_data = X_test,\n",
    "     test_target = Y_test\n",
    "    )"
   ]
  },
  {
   "cell_type": "markdown",
   "metadata": {},
   "source": [
    "##### Вывод: добавление линейной регрессии в листья значительно увеличело скорость обучения. Качество на неглубоких деревьях получается лучше, чем  в sklearn. Однако оно быстро перееобучается."
   ]
  },
  {
   "cell_type": "markdown",
   "metadata": {},
   "source": [
    "## 2. Градиентный Бустинг"
   ]
  },
  {
   "cell_type": "code",
   "execution_count": 10,
   "metadata": {
    "collapsed": true
   },
   "outputs": [],
   "source": [
    "boost = GradientBoosting(max_depth=1, n_estimators=50)"
   ]
  },
  {
   "cell_type": "code",
   "execution_count": 11,
   "metadata": {},
   "outputs": [
    {
     "name": "stderr",
     "output_type": "stream",
     "text": [
      "100%|██████████████████████████████████████████████████████████████████████████████████| 49/49 [00:42<00:00,  1.17s/it]\n"
     ]
    }
   ],
   "source": [
    "boost.fit(X_train, Y_train, X_test, Y_test)"
   ]
  },
  {
   "cell_type": "code",
   "execution_count": 13,
   "metadata": {},
   "outputs": [
    {
     "name": "stderr",
     "output_type": "stream",
     "text": [
      "100%|██████████████████████████████████████████████████████████████████████████████████| 49/49 [00:12<00:00,  2.26it/s]\n"
     ]
    }
   ],
   "source": [
    "# Градиентный бустинг из sklearn\n",
    "from tqdm import tqdm\n",
    "losses = []\n",
    "test_losses = []\n",
    "for i in tqdm(range(1, 50)):\n",
    "    b = GradientBoostingRegressor(n_estimators = i, max_depth=1, criterion = 'mse')\n",
    "    b.fit(X_train, Y_train)\n",
    "    losses.append(MSE(b.predict(X_train), Y_train))\n",
    "    test_losses.append(MSE(b.predict(X_test), Y_test))"
   ]
  },
  {
   "cell_type": "code",
   "execution_count": 14,
   "metadata": {},
   "outputs": [
    {
     "data": {
      "image/png": "[encoded data removed]",
      "text/plain": [
       "<matplotlib.figure.Figure at 0x1a0b0d74080>"
      ]
     },
     "metadata": {},
     "output_type": "display_data"
    }
   ],
   "source": [
    "pl.plot(boost.loss, label = 'model')\n",
    "pl.plot(losses, label = 'sklearn')\n",
    "\n",
    "plt.ylabel('MSE')\n",
    "plt.xlabel('steps')\n",
    "plt.title('MSE on train')\n",
    "pl.legend()\n",
    "\n",
    "plt.show()"
   ]
  },
  {
   "cell_type": "code",
   "execution_count": 15,
   "metadata": {},
   "outputs": [
    {
     "data": {
      "image/png": "[encoded data removed]",
      "text/plain": [
       "<matplotlib.figure.Figure at 0x1a0b11f0630>"
      ]
     },
     "metadata": {},
     "output_type": "display_data"
    }
   ],
   "source": [
    "pl.plot(boost.test_loss, label = 'model')\n",
    "pl.plot(test_losses, label = 'sklearn')\n",
    "\n",
    "plt.ylabel('MSE')\n",
    "plt.xlabel('steps')\n",
    "plt.title('MSE on test')\n",
    "pl.legend()\n",
    "\n",
    "plt.show()"
   ]
  },
  {
   "cell_type": "markdown",
   "metadata": {},
   "source": [
    "#### Заметно, что модель быстрее даёт качество лучше, чем sklearn, но очень сильно переобучается"
   ]
  },
  {
   "cell_type": "markdown",
   "metadata": {},
   "source": [
    "### Попробуем обычное дерево"
   ]
  },
  {
   "cell_type": "code",
   "execution_count": 6,
   "metadata": {
    "collapsed": true
   },
   "outputs": [],
   "source": [
    "boost = GradientBoosting(max_depth=2, n_estimators=200, model = Tree)"
   ]
  },
  {
   "cell_type": "code",
   "execution_count": 8,
   "metadata": {
    "collapsed": true
   },
   "outputs": [],
   "source": [
    "boost.fit(X_train, Y_train, X_test, Y_test)"
   ]
  },
  {
   "cell_type": "code",
   "execution_count": 9,
   "metadata": {
    "collapsed": true
   },
   "outputs": [],
   "source": [
    "# Градиентный бустинг из sklearn\n",
    "losses = []\n",
    "test_losses = []\n",
    "for i in range(1, 200):\n",
    "    b = GradientBoostingRegressor(n_estimators = i, max_depth=2, criterion = 'mse')\n",
    "    b.fit(X_train, Y_train)\n",
    "    losses.append(MSE(b.predict(X_train), Y_train))\n",
    "    test_losses.append(MSE(b.predict(X_test), Y_test))"
   ]
  },
  {
   "cell_type": "code",
   "execution_count": 65,
   "metadata": {},
   "outputs": [
    {
     "data": {
      "image/png": "[encoded data removed]",
      "text/plain": [
       "<matplotlib.figure.Figure at 0x19944cd7518>"
      ]
     },
     "metadata": {},
     "output_type": "display_data"
    }
   ],
   "source": [
    "pl.plot(boost.loss, label = 'model')\n",
    "pl.plot(losses, label = 'sklearn')\n",
    "\n",
    "plt.ylabel('MSE')\n",
    "plt.xlabel('steps')\n",
    "plt.title('MSE on train')\n",
    "pl.legend()\n",
    "\n",
    "plt.show()"
   ]
  },
  {
   "cell_type": "code",
   "execution_count": 64,
   "metadata": {},
   "outputs": [
    {
     "data": {
      "image/png": "[encoded data removed]",
      "text/plain": [
       "<matplotlib.figure.Figure at 0x19944a32550>"
      ]
     },
     "metadata": {},
     "output_type": "display_data"
    }
   ],
   "source": [
    "pl.plot(boost.loss, label = 'model')\n",
    "pl.plot(losses, label = 'sklearn')\n",
    "\n",
    "plt.ylabel('MSE')\n",
    "plt.xlabel('steps')\n",
    "plt.title('MSE on train')\n",
    "pl.legend()\n",
    "\n",
    "plt.show()"
   ]
  },
  {
   "cell_type": "markdown",
   "metadata": {},
   "source": [
    "### Попробуем бустинг на sklearn-дереве"
   ]
  },
  {
   "cell_type": "code",
   "execution_count": 5,
   "metadata": {},
   "outputs": [
    {
     "name": "stderr",
     "output_type": "stream",
     "text": [
      "100%|████████████████████████████████████████████████████████████████████████████████| 199/199 [00:13<00:00, 14.39it/s]\n"
     ]
    }
   ],
   "source": [
    "boost = GradientBoosting(max_depth=2, n_estimators=200, model = DecisionTreeRegressor)\n",
    "boost.fit(X_train, Y_train)"
   ]
  },
  {
   "cell_type": "code",
   "execution_count": 8,
   "metadata": {},
   "outputs": [
    {
     "data": {
      "image/png": "[encoded data removed]",
      "text/plain": [
       "<matplotlib.figure.Figure at 0x26dfb5cbb38>"
      ]
     },
     "metadata": {},
     "output_type": "display_data"
    }
   ],
   "source": [
    "pl.plot(boost.loss, label = 'model')\n",
    "pl.plot(losses, label = 'sklearn')\n",
    "\n",
    "plt.ylabel('MSE')\n",
    "plt.xlabel('steps')\n",
    "plt.title('MSE on train')\n",
    "pl.legend()\n",
    "\n",
    "plt.show()"
   ]
  },
  {
   "cell_type": "code",
   "execution_count": 9,
   "metadata": {},
   "outputs": [
    {
     "data": {
      "text/plain": [
       "0.038094595113448766"
      ]
     },
     "execution_count": 9,
     "metadata": {},
     "output_type": "execute_result"
    }
   ],
   "source": [
    "boost.loss[-1]"
   ]
  },
  {
   "cell_type": "code",
   "execution_count": null,
   "metadata": {
    "collapsed": true
   },
   "outputs": [],
   "source": []
  }
 ],
 "metadata": {
  "kernelspec": {
   "display_name": "Python 3",
   "language": "python",
   "name": "python3"
  },
  "language_info": {
   "codemirror_mode": {
    "name": "ipython",
    "version": 3
   },
   "file_extension": ".py",
   "mimetype": "text/x-python",
   "name": "python",
   "nbconvert_exporter": "python",
   "pygments_lexer": "ipython3",
   "version": "3.6.1"
  }
 },
 "nbformat": 4,
 "nbformat_minor": 2
}
